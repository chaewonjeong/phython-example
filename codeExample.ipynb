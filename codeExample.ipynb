{
 "cells": [
  {
   "cell_type": "code",
   "execution_count": 1,
   "metadata": {},
   "outputs": [],
   "source": [
    "import os\n",
    "import numpy as np\n",
    "import random\n",
    "import sys\n",
    "import numpy as np"
   ]
  },
  {
   "attachments": {},
   "cell_type": "markdown",
   "metadata": {},
   "source": [
    "#### map\n",
    "입력값을 두 개 이상으로 구분하려면 split 함수를 이용하면 된다.\n",
    "\n",
    ">`A, B = int(input().split())` 은 오류 발생\n",
    ">int함수는 리스트를 정수로 바꿔줄 수 없다. 이럴때는 map함수를 사용하자\n"
   ]
  },
  {
   "cell_type": "code",
   "execution_count": null,
   "metadata": {},
   "outputs": [],
   "source": [
    "a = \"hello my name is chaewon\"\n",
    "b = a.split()  # split은 문자열로 저장됨\n",
    "print(type(b))\n",
    "print(type(a))\n",
    "for i in b:\n",
    "   print(i)\n",
    "\n",
    "\n",
    "A, B = map(int, input().split())\n",
    "print(A)\n",
    "print(B)"
   ]
  },
  {
   "attachments": {},
   "cell_type": "markdown",
   "metadata": {},
   "source": [
    "#### 문자열, 리스트, 딕셔너리와 관련되 기본 함수"
   ]
  },
  {
   "attachments": {},
   "cell_type": "markdown",
   "metadata": {},
   "source": [
    "- 리스트에 적용할 수 있는 기본 함수: min(), max(), sum()\n",
    "- 리스트 뒤집기: reversed()\n",
    "- 현재 인덱스가 몇 번째인지 확인하기: enumerate()\n",
    "- 딕셔너리로 쉽게 반복문 작성하기: items()\n",
    "- 리스트 안에 for문 사용하기: 리스트 내포(list comprehension)"
   ]
  },
  {
   "attachments": {},
   "cell_type": "markdown",
   "metadata": {},
   "source": [
    "##### reversed()"
   ]
  },
  {
   "cell_type": "code",
   "execution_count": 4,
   "metadata": {},
   "outputs": [
    {
     "name": "stdout",
     "output_type": "stream",
     "text": [
      "<list_reverseiterator object at 0x10c00f070>\n"
     ]
    }
   ],
   "source": [
    "# reversed()\n",
    "list_a = [1,2,3,4,5]\n",
    "list_reversed = reversed(list_a)\n",
    "print(list_reversed) # reversed() : 제너레이터\n"
   ]
  },
  {
   "attachments": {},
   "cell_type": "markdown",
   "metadata": {},
   "source": [
    "##### enumerate() 함수와 반복문 조합하기"
   ]
  },
  {
   "cell_type": "code",
   "execution_count": null,
   "metadata": {},
   "outputs": [],
   "source": [
    "example_list = [\"A\", \"B\", \"C\", \"D\"]\n",
    "i = 0\n",
    "for item in example_list:\n",
    "    print(\"{}번째 요소는 {}입니다.\".format(i, item))\n",
    "    i += 1\n",
    "\n",
    "#enumerate()\n",
    "print(enumerate(example_list)) # <enumerate object at 0x10c02cfc0> \n",
    "# enumerate객체 생성\n",
    "\n",
    "for i, value in enumerate(example_list):\n",
    "    print(\"{}번째 요소는 {}입니다.\".format(i, value))\n"
   ]
  },
  {
   "attachments": {},
   "cell_type": "markdown",
   "metadata": {},
   "source": [
    "##### 딕셔너리의 items() 함수와 반복문 조합하기"
   ]
  },
  {
   "attachments": {},
   "cell_type": "markdown",
   "metadata": {},
   "source": [
    "> 딕셔너리는 `items()` 함수와 함께 사용하면 키와 값을 조합해서 쉽게 반복문을 작성할 수 있다."
   ]
  },
  {
   "cell_type": "code",
   "execution_count": 24,
   "metadata": {},
   "outputs": [
    {
     "name": "stdout",
     "output_type": "stream",
     "text": [
      "dictionary[keyA] = valueA\n",
      "dictionary[keyB] = valueB\n",
      "dictionary[keyC] = valueC\n"
     ]
    }
   ],
   "source": [
    "example_dictionary = {\n",
    "    \"keyA\": \"valueA\",\n",
    "    \"keyB\": \"valueB\",\n",
    "    \"keyC\": \"valueC\",\n",
    "}\n",
    "\n",
    "for i, value in example_dictionary.items():\n",
    "    print(\"dictionary[{}] = {}\".format(i, value))"
   ]
  },
  {
   "attachments": {},
   "cell_type": "markdown",
   "metadata": {},
   "source": [
    "##### 리스트 내포 (list comprehension)"
   ]
  },
  {
   "attachments": {},
   "cell_type": "markdown",
   "metadata": {},
   "source": [
    "> `리스트 이름` = [ `표현식` for `반복자` in `반복할 수 있는것` if `조건문` ]"
   ]
  },
  {
   "cell_type": "code",
   "execution_count": 27,
   "metadata": {},
   "outputs": [
    {
     "name": "stdout",
     "output_type": "stream",
     "text": [
      "[1, 2, 3, 4, 5, 6, 7, 8, 9, 10, 11, 12, 13, 14, 15, 16, 17, 18, 19, 20]\n",
      "[1, 2, 4, 8, 16, 32, 64]\n"
     ]
    }
   ],
   "source": [
    "list2 = [i for i in range(1, 20+1)]\n",
    "print(list2)\n",
    "\n",
    "# 입력받은 정수의 약수 구하기\n",
    "num = int(input(\"정수를 입력하시오: \"))\n",
    "divisor = [i for i in range(1, num+1) if num % i == 0]\n",
    "print(divisor)"
   ]
  },
  {
   "attachments": {},
   "cell_type": "markdown",
   "metadata": {},
   "source": [
    "##### 랜덤한 수로 배열 초기화"
   ]
  },
  {
   "cell_type": "code",
   "execution_count": 58,
   "metadata": {},
   "outputs": [
    {
     "name": "stdout",
     "output_type": "stream",
     "text": [
      "[6, 20, 8, 13, 3, 4, 12, 18, 3, 13, 7, 4, 18, 15, 16]\n",
      "19\n",
      "1\n"
     ]
    }
   ],
   "source": [
    "list3 = []\n",
    "for _ in range(1, 15+1):\n",
    "   list3.append(random.randint(1, 20))\n",
    "print(list3)\n",
    "\n",
    "#numpy 패키지 이용\n",
    "a1 = np.random.randint(1, 20, size=25)\n",
    "\n",
    "\n",
    "print(a1.max())  # 배열의 최대값\n",
    "print(a1.min())  # 배열의 최솟값"
   ]
  },
  {
   "attachments": {},
   "cell_type": "markdown",
   "metadata": {},
   "source": [
    "##### 문자열의 join() 함수\n",
    "`문자열`.join(`문자열로 구성된 리스트`)\n",
    "`join`함수는 리스트의 요소를 문자열로 연결합니다.\n"
   ]
  },
  {
   "attachments": {},
   "cell_type": "markdown",
   "metadata": {},
   "source": [
    "`img_path = os.path.join(self.img_dir, self.img_labels.iloc[idx, 0])`\n",
    "> img_path에 문자열인 `self.img_dir`, `self.img_labels.iloc[idx, 0]`를 연결한 값을 저장"
   ]
  },
  {
   "cell_type": "code",
   "execution_count": 31,
   "metadata": {},
   "outputs": [
    {
     "name": "stdout",
     "output_type": "stream",
     "text": [
      "입력한 문자열은5입니다.\n",
      "5는(은) 홀수입니다.\n"
     ]
    }
   ],
   "source": [
    "number = int(input(\"정수 입력: \"))\n",
    "\n",
    "if number % 2 == 0:\n",
    "    print(\"\\n\".join([\n",
    "        \"입력한 문자열은{}입니다.\",\n",
    "        \"{}는(은) 짝수입니다.\"\n",
    "    ]).format(number, number))\n",
    "else:\n",
    "    print(\"\\n\".join([\n",
    "        \"입력한 문자열은{}입니다.\",\n",
    "        \"{}는(은) 홀수입니다.\"\n",
    "    ]).format(number, number))"
   ]
  },
  {
   "attachments": {},
   "cell_type": "markdown",
   "metadata": {},
   "source": [
    "위와 같이 하면 여러 줄 문자열과 if구문을 조합했을 때의 공백 문제를 해결할 수 있다."
   ]
  },
  {
   "attachments": {},
   "cell_type": "markdown",
   "metadata": {},
   "source": [
    "#### 함수"
   ]
  },
  {
   "attachments": {},
   "cell_type": "markdown",
   "metadata": {},
   "source": [
    "##### 가변 매개변수와 기본 매개변수"
   ]
  },
  {
   "attachments": {},
   "cell_type": "markdown",
   "metadata": {},
   "source": [
    "매개변수를 원하는 만큼 받을 수있는 함수를 `가변 매개변수` 함수라고 한다.</br>\n",
    "</br>\n",
    "def `함수이름`(`매개변수`, `매개변수`, ... *`가변 매개변수`)\n",
    "- 가변 매개변수 뒤에는 일반 매개변수가 올 수 없습니다.\n",
    "- 가변 매개변수는 하나만 사용할 수 있습니다."
   ]
  },
  {
   "attachments": {},
   "cell_type": "markdown",
   "metadata": {},
   "source": [
    "`print()` </br>\n",
    "\n",
    "print(value, ..., sep = \" \", end = \" \", file = sys.stdout, flush=False) </br>\n",
    "\n",
    "가변 매개변수 뒤에는 일반 매개변수가 올수 없는데 매개변수가 왔다</br>\n",
    "`'매개변수 = 값'` 형태로 되어 있다. 이는 `기본 매개변수`라고 부른다\n",
    "- 기본 매개변수 뒤에는 일반 매개변수가 올 수 없습니다.\n",
    "- 기본 매개변수는 가변 매개변수 앞에 써도 의미 없다."
   ]
  },
  {
   "attachments": {},
   "cell_type": "markdown",
   "metadata": {},
   "source": [
    "##### 키워드 매개변수 </br>\n",
    "기본 매개변수가 가변 매개변수보다 뒤에 올때 해결법</br>\n",
    "매개변수 이름을 지정해서 입력하는 매개변수 `키원드 매개변수`\n"
   ]
  },
  {
   "attachments": {},
   "cell_type": "markdown",
   "metadata": {},
   "source": [
    "##### 재귀 함수\n",
    "\n"
   ]
  },
  {
   "cell_type": "code",
   "execution_count": 66,
   "metadata": {},
   "outputs": [
    {
     "name": "stdout",
     "output_type": "stream",
     "text": [
      "fibonacci(10): 55\n",
      "109\n"
     ]
    }
   ],
   "source": [
    "#재귀 함수로 구현한 피보나치 수열\n",
    "counter = 0\n",
    "\n",
    "def fibonacci(n):\n",
    "    global counter\n",
    "    counter += 1\n",
    "    if n == 1:\n",
    "        return 1\n",
    "    if n == 2:\n",
    "        return 1\n",
    "    else :\n",
    "        return fibonacci(n-1) + fibonacci(n-2)\n",
    "    \n",
    "\n",
    "print(\"fibonacci(10):\", fibonacci(10))\n",
    "print(counter)"
   ]
  },
  {
   "attachments": {},
   "cell_type": "markdown",
   "metadata": {},
   "source": [
    "`메모화` </br>\n",
    "\n",
    "딕서너리를 사용해서 한 번 계산한 값을 저장한다. 이를 메모한다고 표현합니다. 딕셔너리에 값이 메모되어 있으면 처리를 수행하지 않고 곧바로 메모된 값을 도려려주면서 코드의 속도를 빠르게 만드는것\n"
   ]
  },
  {
   "cell_type": "code",
   "execution_count": 70,
   "metadata": {},
   "outputs": [
    {
     "name": "stdout",
     "output_type": "stream",
     "text": [
      "fibonacci(10): 55\n",
      "8\n"
     ]
    }
   ],
   "source": [
    "dictionary = { 1: 1, 2: 1}\n",
    "\n",
    "counter = 0\n",
    "\n",
    "def fibonacci(n):\n",
    "    if n in dictionary:\n",
    "        return dictionary[n]\n",
    "    else:\n",
    "        global counter\n",
    "        counter = counter + 1\n",
    "        output = fibonacci(n-1) + fibonacci(n-2)\n",
    "        dictionary[n] = output\n",
    "        return output\n",
    "    \n",
    "print(\"fibonacci(10):\", fibonacci(10))\n",
    "print(counter)"
   ]
  },
  {
   "attachments": {},
   "cell_type": "markdown",
   "metadata": {},
   "source": [
    "`리스트 평탄화 하기`"
   ]
  },
  {
   "cell_type": "code",
   "execution_count": 71,
   "metadata": {},
   "outputs": [
    {
     "name": "stdout",
     "output_type": "stream",
     "text": [
      "[1, 2, 3, 4, 5, 6, 7, 8, 9, 10]\n"
     ]
    }
   ],
   "source": [
    "def flatten(data):\n",
    "    output = []\n",
    "    \n",
    "    for item in data:\n",
    "        if type(item) == list:\n",
    "            output += flatten(item)\n",
    "        else:\n",
    "            output.append(item)\n",
    "    \n",
    "    return(output)\n",
    "\n",
    "example = [[1,2,3],[4,[5,6]],[7,[8,[9,10]]]]\n",
    "print(flatten(example))"
   ]
  },
  {
   "attachments": {},
   "cell_type": "markdown",
   "metadata": {},
   "source": [
    "#### 함수 고급"
   ]
  },
  {
   "attachments": {},
   "cell_type": "markdown",
   "metadata": {},
   "source": [
    "##### 튜플\n",
    "`튜플`은 리스트와 비슷한 자료형, 단 한번 결정된 요소는 바꿀 수 없다.\n",
    "파이썬의 리스트와 튜플은 특이한 형태의 할당 구문으로 사용할 수 있다.\n",
    "- [a, b] = [10, 20]\n",
    "- (c, d) = (10, 20)\n",
    "\n",
    "튜플은 함수의 리턴에 많이 사용한다.</br>\n",
    "`enumerate()` 함수의 반환값 역시 튜플이다.\n",
    "\n"
   ]
  },
  {
   "attachments": {},
   "cell_type": "markdown",
   "metadata": {},
   "source": [
    "##### 람다\n",
    "함수의 '기능'을 매개변수로 전달하는 코드가 많이 사용된다."
   ]
  },
  {
   "attachments": {},
   "cell_type": "markdown",
   "metadata": {},
   "source": [
    "`콜백 함수` : 함수의 매개변수에 사용하는 함수"
   ]
  },
  {
   "attachments": {},
   "cell_type": "markdown",
   "metadata": {},
   "source": [
    "`map()` : 리스트의 요소를 함수에 넣고 리턴된 값으로 새로운 리스트를 구성해주는 함수\n",
    "- map(`함수`,`리스트`)\n"
   ]
  },
  {
   "attachments": {},
   "cell_type": "markdown",
   "metadata": {},
   "source": [
    "`filter()` : 리스트의 요소를 함수에 넣고 리턴된 값이 True인 것으로, 새로운 리스트를 구성해주는 함수\n",
    "- filter(`함수`,`리스트`)"
   ]
  },
  {
   "cell_type": "code",
   "execution_count": 88,
   "metadata": {},
   "outputs": [
    {
     "name": "stdout",
     "output_type": "stream",
     "text": [
      "<map object at 0x10b4e5ed0>\n",
      "[1, 4, 9, 16, 25]\n",
      "\n",
      "<filter object at 0x10b4e56f0>\n",
      "[1, 2]\n"
     ]
    }
   ],
   "source": [
    "def power(item):\n",
    "    return item * item\n",
    "\n",
    "def under_3(item):\n",
    "    return item < 3\n",
    "\n",
    "# power, under_3는 콜백함수\n",
    "\n",
    "\n",
    "list_input_a = [1,2,3,4,5]\n",
    "\n",
    "output_a = map(power, list_input_a)\n",
    "\n",
    "print(output_a)\n",
    "print(list(output_a))\n",
    "print()\n",
    "\n",
    "output_b = filter(under_3, list_input_a)\n",
    "\n",
    "print(output_b)\n",
    "print(list(output_b))\n"
   ]
  },
  {
   "attachments": {},
   "cell_type": "markdown",
   "metadata": {},
   "source": [
    "두함수의 결과로 \\<map object>와 \\<filter object>가 나오는데, 이를 `제너레이터`라고 부른다.</br>\n",
    "`제너레이터`는 `이터레이터`를 직접 만들 때 사용하는 코드이다. 함수 내부에 `yield 키워드`를 사용하면 해당 함수는 제너레이터 함수가 되며, 일반 함수와는 달리 함수를 호출해도 함수 내부의 코드가 실행되지 않는다."
   ]
  },
  {
   "attachments": {},
   "cell_type": "markdown",
   "metadata": {},
   "source": [
    "람다는 '간단한 함수를 쉽게 선언하는 방법'이다.\n",
    "\n",
    "- lambda `매개변수`: `리턴값`"
   ]
  },
  {
   "cell_type": "code",
   "execution_count": 92,
   "metadata": {},
   "outputs": [
    {
     "name": "stdout",
     "output_type": "stream",
     "text": [
      "<map object at 0x10b4e68c0>\n",
      "[1, 4, 9, 16, 25]\n"
     ]
    }
   ],
   "source": [
    "list_input_a = [1,2,3,4,5]\n",
    "\n",
    "output_a = map(lambda x: x*x, list_input_a)\n",
    "\n",
    "print(output_a)\n",
    "print(list(output_a))"
   ]
  },
  {
   "attachments": {},
   "cell_type": "markdown",
   "metadata": {},
   "source": [
    "##### `파일 처리`"
   ]
  },
  {
   "cell_type": "code",
   "execution_count": 96,
   "metadata": {},
   "outputs": [],
   "source": [
    "#파일을 엽니다.\n",
    "file = open(\"basic.txt\", \"w\")\n",
    "\n",
    "file.write(\"hello world\")\n",
    "\n",
    "file.close()"
   ]
  },
  {
   "attachments": {},
   "cell_type": "markdown",
   "metadata": {},
   "source": [
    "`with 키워드` : with구문이 종료될 떄 자동으로 파일이 닫힌다.\n",
    "- with open(`문자열: 파일 경로`, `문자열: 모드`)as `파일 객체`:</br>`문장`"
   ]
  },
  {
   "cell_type": "code",
   "execution_count": 99,
   "metadata": {},
   "outputs": [],
   "source": [
    "with open(\"basic.txt\", \"w\") as f:\n",
    "    f.write(\"hello chaewon\")"
   ]
  }
 ],
 "metadata": {
  "kernelspec": {
   "display_name": "base",
   "language": "python",
   "name": "python3"
  },
  "language_info": {
   "codemirror_mode": {
    "name": "ipython",
    "version": 3
   },
   "file_extension": ".py",
   "mimetype": "text/x-python",
   "name": "python",
   "nbconvert_exporter": "python",
   "pygments_lexer": "ipython3",
   "version": "3.10.10"
  },
  "orig_nbformat": 4
 },
 "nbformat": 4,
 "nbformat_minor": 2
}
