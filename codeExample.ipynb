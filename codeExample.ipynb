{
 "cells": [
  {
   "cell_type": "code",
   "execution_count": 1,
   "metadata": {},
   "outputs": [],
   "source": [
    "import os\n",
    "import numpy as np\n",
    "import random\n",
    "import sys\n",
    "import numpy as np"
   ]
  },
  {
   "attachments": {},
   "cell_type": "markdown",
   "metadata": {},
   "source": [
    "## 문자열, 리스트, 딕셔너리와 관련되 기본 함수"
   ]
  },
  {
   "attachments": {},
   "cell_type": "markdown",
   "metadata": {},
   "source": [
    "- 리스트에 적용할 수 있는 기본 함수: min(), max(), sum()\n",
    "- 리스트 뒤집기: reversed()\n",
    "- 현재 인덱스가 몇 번째인지 확인하기: enumerate()\n",
    "- 딕셔너리로 쉽게 반복문 작성하기: items()\n",
    "- 리스트 안에 for문 사용하기: 리스트 내포(list comprehension)"
   ]
  },
  {
   "attachments": {},
   "cell_type": "markdown",
   "metadata": {},
   "source": [
    "### reversed()"
   ]
  },
  {
   "cell_type": "code",
   "execution_count": 4,
   "metadata": {},
   "outputs": [
    {
     "name": "stdout",
     "output_type": "stream",
     "text": [
      "<list_reverseiterator object at 0x10c00f070>\n"
     ]
    }
   ],
   "source": [
    "# reversed()\n",
    "list_a = [1,2,3,4,5]\n",
    "list_reversed = reversed(list_a)\n",
    "print(list_reversed) # reversed() : 제너레이터\n"
   ]
  },
  {
   "attachments": {},
   "cell_type": "markdown",
   "metadata": {},
   "source": [
    "### enumerate() 함수와 반복문 조합하기"
   ]
  },
  {
   "cell_type": "code",
   "execution_count": null,
   "metadata": {},
   "outputs": [],
   "source": [
    "example_list = [\"A\", \"B\", \"C\", \"D\"]\n",
    "i = 0\n",
    "for item in example_list:\n",
    "    print(\"{}번째 요소는 {}입니다.\".format(i, item))\n",
    "    i += 1\n",
    "\n",
    "#enumerate()\n",
    "print(enumerate(example_list)) # <enumerate object at 0x10c02cfc0> \n",
    "# enumerate객체 생성\n",
    "\n",
    "for i, value in enumerate(example_list):\n",
    "    print(\"{}번째 요소는 {}입니다.\".format(i, value))\n"
   ]
  },
  {
   "attachments": {},
   "cell_type": "markdown",
   "metadata": {},
   "source": [
    "### 딕셔너리의 items() 함수와 반복문 조합하기"
   ]
  },
  {
   "attachments": {},
   "cell_type": "markdown",
   "metadata": {},
   "source": [
    "> 딕셔너리는 `items()` 함수와 함께 사용하면 키와 값을 조합해서 쉽게 반복문을 작성할 수 있다."
   ]
  },
  {
   "cell_type": "code",
   "execution_count": 24,
   "metadata": {},
   "outputs": [
    {
     "name": "stdout",
     "output_type": "stream",
     "text": [
      "dictionary[keyA] = valueA\n",
      "dictionary[keyB] = valueB\n",
      "dictionary[keyC] = valueC\n"
     ]
    }
   ],
   "source": [
    "example_dictionary = {\n",
    "    \"keyA\": \"valueA\",\n",
    "    \"keyB\": \"valueB\",\n",
    "    \"keyC\": \"valueC\",\n",
    "}\n",
    "\n",
    "for i, value in example_dictionary.items():\n",
    "    print(\"dictionary[{}] = {}\".format(i, value))"
   ]
  },
  {
   "attachments": {},
   "cell_type": "markdown",
   "metadata": {},
   "source": [
    "### 리스트 내포 (list comprehension)"
   ]
  },
  {
   "attachments": {},
   "cell_type": "markdown",
   "metadata": {},
   "source": [
    "> `리스트 이름` = [ `표현식` for `반복자` in `반복할 수 있는것` if `조건문` ]"
   ]
  },
  {
   "cell_type": "code",
   "execution_count": 27,
   "metadata": {},
   "outputs": [
    {
     "name": "stdout",
     "output_type": "stream",
     "text": [
      "[1, 2, 3, 4, 5, 6, 7, 8, 9, 10, 11, 12, 13, 14, 15, 16, 17, 18, 19, 20]\n",
      "[1, 2, 4, 8, 16, 32, 64]\n"
     ]
    }
   ],
   "source": [
    "list2 = [i for i in range(1, 20+1)]\n",
    "print(list2)\n",
    "\n",
    "# 입력받은 정수의 약수 구하기\n",
    "num = int(input(\"정수를 입력하시오: \"))\n",
    "divisor = [i for i in range(1, num+1) if num % i == 0]\n",
    "print(divisor)"
   ]
  },
  {
   "attachments": {},
   "cell_type": "markdown",
   "metadata": {},
   "source": [
    "### 랜덤한 수로 배열 초기화"
   ]
  },
  {
   "cell_type": "code",
   "execution_count": 58,
   "metadata": {},
   "outputs": [
    {
     "name": "stdout",
     "output_type": "stream",
     "text": [
      "[6, 20, 8, 13, 3, 4, 12, 18, 3, 13, 7, 4, 18, 15, 16]\n",
      "19\n",
      "1\n"
     ]
    }
   ],
   "source": [
    "list3 = []\n",
    "for _ in range(1, 15+1):\n",
    "   list3.append(random.randint(1, 20))\n",
    "print(list3)\n",
    "\n",
    "#numpy 패키지 이용\n",
    "a1 = np.random.randint(1, 20, size=25)\n",
    "\n",
    "\n",
    "print(a1.max())  # 배열의 최대값\n",
    "print(a1.min())  # 배열의 최솟값"
   ]
  },
  {
   "attachments": {},
   "cell_type": "markdown",
   "metadata": {},
   "source": [
    "### 문자열의 join() 함수\n",
    "`문자열`.join(`문자열로 구성된 리스트`)\n",
    "`join`함수는 리스트의 요소를 문자열로 연결합니다.\n"
   ]
  },
  {
   "attachments": {},
   "cell_type": "markdown",
   "metadata": {},
   "source": [
    "`img_path = os.path.join(self.img_dir, self.img_labels.iloc[idx, 0])`\n",
    "> img_path에 문자열인 `self.img_dir`, `self.img_labels.iloc[idx, 0]`를 연결한 값을 저장"
   ]
  },
  {
   "cell_type": "code",
   "execution_count": 31,
   "metadata": {},
   "outputs": [
    {
     "name": "stdout",
     "output_type": "stream",
     "text": [
      "입력한 문자열은5입니다.\n",
      "5는(은) 홀수입니다.\n"
     ]
    }
   ],
   "source": [
    "number = int(input(\"정수 입력: \"))\n",
    "\n",
    "if number % 2 == 0:\n",
    "    print(\"\\n\".join([\n",
    "        \"입력한 문자열은{}입니다.\",\n",
    "        \"{}는(은) 짝수입니다.\"\n",
    "    ]).format(number, number))\n",
    "else:\n",
    "    print(\"\\n\".join([\n",
    "        \"입력한 문자열은{}입니다.\",\n",
    "        \"{}는(은) 홀수입니다.\"\n",
    "    ]).format(number, number))"
   ]
  },
  {
   "attachments": {},
   "cell_type": "markdown",
   "metadata": {},
   "source": [
    "위와 같이 하면 여러 줄 문자열과 if구문을 조합했을 때의 공백 문제를 해결할 수 있다."
   ]
  },
  {
   "attachments": {},
   "cell_type": "markdown",
   "metadata": {},
   "source": [
    "## 함수"
   ]
  },
  {
   "attachments": {},
   "cell_type": "markdown",
   "metadata": {},
   "source": [
    "### 가변 매개변수와 기본 매개변수"
   ]
  },
  {
   "attachments": {},
   "cell_type": "markdown",
   "metadata": {},
   "source": [
    "매개변수를 원하는 만큼 받을 수있는 함수를 `가변 매개변수` 함수라고 한다.</br>\n",
    "</br>\n",
    "def `함수이름`(`매개변수`, `매개변수`, ... *`가변 매개변수`)\n",
    "- 가변 매개변수 뒤에는 일반 매개변수가 올 수 없습니다.\n",
    "- 가변 매개변수는 하나만 사용할 수 있습니다."
   ]
  },
  {
   "attachments": {},
   "cell_type": "markdown",
   "metadata": {},
   "source": [
    "`print()` </br>\n",
    "\n",
    "print(value, ..., sep = \" \", end = \" \", file = sys.stdout, flush=False) </br>\n",
    "\n",
    "가변 매개변수 뒤에는 일반 매개변수가 올수 없는데 매개변수가 왔다</br>\n",
    "`'매개변수 = 값'` 형태로 되어 있다. 이는 `기본 매개변수`라고 부른다\n",
    "- 기본 매개변수 뒤에는 일반 매개변수가 올 수 없습니다.\n",
    "- 기본 매개변수는 가변 매개변수 앞에 써도 의미 없다."
   ]
  },
  {
   "attachments": {},
   "cell_type": "markdown",
   "metadata": {},
   "source": [
    "### 키워드 매개변수 </br>\n",
    "기본 매개변수가 가변 매개변수보다 뒤에 올때 해결법</br>\n",
    "매개변수 이름을 지정해서 입력하는 매개변수 `키원드 매개변수`\n"
   ]
  },
  {
   "attachments": {},
   "cell_type": "markdown",
   "metadata": {},
   "source": [
    "### 재귀 함수\n",
    "\n"
   ]
  },
  {
   "cell_type": "code",
   "execution_count": 66,
   "metadata": {},
   "outputs": [
    {
     "name": "stdout",
     "output_type": "stream",
     "text": [
      "fibonacci(10): 55\n",
      "109\n"
     ]
    }
   ],
   "source": [
    "#재귀 함수로 구현한 피보나치 수열\n",
    "counter = 0\n",
    "\n",
    "def fibonacci(n):\n",
    "    global counter\n",
    "    counter += 1\n",
    "    if n == 1:\n",
    "        return 1\n",
    "    if n == 2:\n",
    "        return 1\n",
    "    else :\n",
    "        return fibonacci(n-1) + fibonacci(n-2)\n",
    "    \n",
    "\n",
    "print(\"fibonacci(10):\", fibonacci(10))\n",
    "print(counter)"
   ]
  },
  {
   "attachments": {},
   "cell_type": "markdown",
   "metadata": {},
   "source": [
    "`메모화` </br>\n",
    "\n",
    "딕서너리를 사용해서 한 번 계산한 값을 저장한다. 이를 메모한다고 표현합니다. 딕셔너리에 값이 메모되어 있으면 처리를 수행하지 않고 곧바로 메모된 값을 도려려주면서 코드의 속도를 빠르게 만드는것\n"
   ]
  },
  {
   "cell_type": "code",
   "execution_count": 70,
   "metadata": {},
   "outputs": [
    {
     "name": "stdout",
     "output_type": "stream",
     "text": [
      "fibonacci(10): 55\n",
      "8\n"
     ]
    }
   ],
   "source": [
    "dictionary = { 1: 1, 2: 1}\n",
    "\n",
    "counter = 0\n",
    "\n",
    "def fibonacci(n):\n",
    "    if n in dictionary:\n",
    "        return dictionary[n]\n",
    "    else:\n",
    "        global counter\n",
    "        counter = counter + 1\n",
    "        output = fibonacci(n-1) + fibonacci(n-2)\n",
    "        dictionary[n] = output\n",
    "        return output\n",
    "    \n",
    "print(\"fibonacci(10):\", fibonacci(10))\n",
    "print(counter)"
   ]
  },
  {
   "attachments": {},
   "cell_type": "markdown",
   "metadata": {},
   "source": [
    "`리스트 평탄화 하기`"
   ]
  },
  {
   "cell_type": "code",
   "execution_count": 71,
   "metadata": {},
   "outputs": [
    {
     "name": "stdout",
     "output_type": "stream",
     "text": [
      "[1, 2, 3, 4, 5, 6, 7, 8, 9, 10]\n"
     ]
    }
   ],
   "source": [
    "def flatten(data):\n",
    "    output = []\n",
    "    \n",
    "    for item in data:\n",
    "        if type(item) == list:\n",
    "            output += flatten(item)\n",
    "        else:\n",
    "            output.append(item)\n",
    "    \n",
    "    return(output)\n",
    "\n",
    "example = [[1,2,3],[4,[5,6]],[7,[8,[9,10]]]]\n",
    "print(flatten(example))"
   ]
  },
  {
   "attachments": {},
   "cell_type": "markdown",
   "metadata": {},
   "source": [
    "## 함수 고급"
   ]
  },
  {
   "attachments": {},
   "cell_type": "markdown",
   "metadata": {},
   "source": [
    "### 튜플\n",
    "`튜플`은 리스트와 비슷한 자료형, 단 한번 결정된 요소는 바꿀 수 없다.\n",
    "파이썬의 리스트와 튜플은 특이한 형태의 할당 구문으로 사용할 수 있다.\n",
    "- [a, b] = [10, 20]\n",
    "- (c, d) = (10, 20)\n",
    "\n",
    "튜플은 함수의 리턴에 많이 사용한다.</br>\n",
    "`enumerate()` 함수의 반환값 역시 튜플이다.\n",
    "\n"
   ]
  },
  {
   "attachments": {},
   "cell_type": "markdown",
   "metadata": {},
   "source": [
    "### map()\n",
    "입력값을 두 개 이상으로 구분하려면 split 함수를 이용하면 된다.\n",
    "\n",
    ">`A, B = int(input().split())` 은 오류 발생\n",
    ">int함수는 리스트를 정수로 바꿔줄 수 없다. 이럴때는 map함수를 사용하자\n"
   ]
  },
  {
   "cell_type": "code",
   "execution_count": null,
   "metadata": {},
   "outputs": [],
   "source": [
    "a = \"hello my name is chaewon\"\n",
    "b = a.split()  # split은 문자열로 저장됨\n",
    "print(type(b))\n",
    "print(type(a))\n",
    "for i in b:\n",
    "   print(i)\n",
    "\n",
    "\n",
    "A, B = map(int, input().split())\n",
    "print(A)\n",
    "print(B)"
   ]
  },
  {
   "attachments": {},
   "cell_type": "markdown",
   "metadata": {},
   "source": [
    "### 람다\n",
    "함수의 '기능'을 매개변수로 전달하는 코드가 많이 사용된다."
   ]
  },
  {
   "attachments": {},
   "cell_type": "markdown",
   "metadata": {},
   "source": [
    "`콜백 함수` : 함수의 매개변수에 사용하는 함수"
   ]
  },
  {
   "attachments": {},
   "cell_type": "markdown",
   "metadata": {},
   "source": [
    "`map()` : 리스트의 요소를 함수에 넣고 리턴된 값으로 새로운 리스트를 구성해주는 함수\n",
    "- map(`함수`,`리스트`)\n"
   ]
  },
  {
   "attachments": {},
   "cell_type": "markdown",
   "metadata": {},
   "source": [
    "`filter()` : 리스트의 요소를 함수에 넣고 리턴된 값이 True인 것으로, 새로운 리스트를 구성해주는 함수\n",
    "- filter(`함수`,`리스트`)"
   ]
  },
  {
   "cell_type": "code",
   "execution_count": 88,
   "metadata": {},
   "outputs": [
    {
     "name": "stdout",
     "output_type": "stream",
     "text": [
      "<map object at 0x10b4e5ed0>\n",
      "[1, 4, 9, 16, 25]\n",
      "\n",
      "<filter object at 0x10b4e56f0>\n",
      "[1, 2]\n"
     ]
    }
   ],
   "source": [
    "def power(item):\n",
    "    return item * item\n",
    "\n",
    "def under_3(item):\n",
    "    return item < 3\n",
    "\n",
    "# power, under_3는 콜백함수\n",
    "\n",
    "\n",
    "list_input_a = [1,2,3,4,5]\n",
    "\n",
    "output_a = map(power, list_input_a)\n",
    "\n",
    "print(output_a)\n",
    "print(list(output_a))\n",
    "print()\n",
    "\n",
    "output_b = filter(under_3, list_input_a)\n",
    "\n",
    "print(output_b)\n",
    "print(list(output_b))\n"
   ]
  },
  {
   "attachments": {},
   "cell_type": "markdown",
   "metadata": {},
   "source": [
    "두함수의 결과로 \\<map object>와 \\<filter object>가 나오는데, 이를 `제너레이터`라고 부른다.</br>\n",
    "`제너레이터`는 `이터레이터`를 직접 만들 때 사용하는 코드이다. 함수 내부에 `yield 키워드`를 사용하면 해당 함수는 제너레이터 함수가 되며, 일반 함수와는 달리 함수를 호출해도 함수 내부의 코드가 실행되지 않는다."
   ]
  },
  {
   "attachments": {},
   "cell_type": "markdown",
   "metadata": {},
   "source": [
    "제너레이터 객체는 `next()` 함수를 사용해 함수 내부의 코드를 실행한다. 이때 yield 키워드 부분까지만 실행하며, next() 함수의 리턴값으로 yield 키워드 뒤에 입력한 값이 출력된다.</br>\n",
    "이처럼 제너레이터 객체는 함수의 코드를 조금씩 실행할 때 사용한다. 이는 메모리의 효율성을 위해서이다."
   ]
  },
  {
   "attachments": {},
   "cell_type": "markdown",
   "metadata": {},
   "source": [
    "람다는 '간단한 함수를 쉽게 선언하는 방법'이다.\n",
    "\n",
    "- lambda `매개변수`: `리턴값`"
   ]
  },
  {
   "cell_type": "code",
   "execution_count": 92,
   "metadata": {},
   "outputs": [
    {
     "name": "stdout",
     "output_type": "stream",
     "text": [
      "<map object at 0x10b4e68c0>\n",
      "[1, 4, 9, 16, 25]\n"
     ]
    }
   ],
   "source": [
    "list_input_a = [1,2,3,4,5]\n",
    "\n",
    "output_a = map(lambda x: x*x, list_input_a)\n",
    "\n",
    "print(output_a)\n",
    "print(list(output_a))"
   ]
  },
  {
   "attachments": {},
   "cell_type": "markdown",
   "metadata": {},
   "source": [
    "### 람다 예제"
   ]
  },
  {
   "attachments": {},
   "cell_type": "markdown",
   "metadata": {},
   "source": [
    "`sort()` 함수에 key 값으로 `람다 함수` 넣기\n",
    "- sort() 함수는 파괴적 함수이므로 호출했을 때 리스트 자체가 바뀐다."
   ]
  },
  {
   "cell_type": "code",
   "execution_count": 142,
   "metadata": {},
   "outputs": [
    {
     "name": "stdout",
     "output_type": "stream",
     "text": [
      "[12, 33, 36, 43, 53, 59, 88, 102]\n",
      "[102, 88, 59, 53, 43, 36, 33, 12]\n"
     ]
    }
   ],
   "source": [
    "# 오름차순\n",
    "list_a = [53, 43, 33, 12, 59, 36, 88, 102]\n",
    "list_a.sort()\n",
    "print(list_a)\n",
    "\n",
    "#내림차순\n",
    "list_a.sort(reverse=True)\n",
    "print(list_a)"
   ]
  },
  {
   "attachments": {},
   "cell_type": "markdown",
   "metadata": {},
   "source": [
    "단순한 숫자 리스트가 아니라 '딕셔너리의 리스트'처럼 복합적인 리스트를 정렬해야 할 때는 어떻게 해야할까?</br>\n",
    "딕셔너리의 `key 키워드 매개변수`에 `람다`를 사용하면 된다."
   ]
  },
  {
   "cell_type": "code",
   "execution_count": 161,
   "metadata": {},
   "outputs": [],
   "source": [
    "hanguls = list(\"가나다라마바사아자차카타파하\")\n",
    "\n",
    "with open(\"info.txt\", \"w\") as file:\n",
    "    file.write(\"name,weight,height\\n\")\n",
    "    \n",
    "    for i in range(1000):\n",
    "        # choice : 리스트에서 아무원소나 하나 뽑아주는 함수\n",
    "        name = random.choice(hanguls) + random.choice(hanguls) + random.choice(hanguls)\n",
    "        weight = random.randint(40,100)\n",
    "        height = random.randint(140,200)\n",
    "        file.write(\"{}, {}, {}\\n\".format(name, weight, height))"
   ]
  },
  {
   "cell_type": "code",
   "execution_count": null,
   "metadata": {},
   "outputs": [],
   "source": [
    "with open(\"info.txt\", \"r\")as file:\n",
    "    format = file.readline() # 첫번째 줄 파일 읽기\n",
    "    human_info = []\n",
    "    for line in file:\n",
    "        human_info = [list(line.strip().split(',')) for line in file]\n",
    "    #human_info = np.array(human_info) # 2차원 배열로 저장된 상태\n",
    "print(human_info)\n",
    "\n",
    "human_info.sort(key = lambda x: int(x[1])) ## csv 파일은 현재 문자열로 저장되어 있다.\n",
    "for i in human_info:\n",
    "    print(i)"
   ]
  },
  {
   "attachments": {},
   "cell_type": "markdown",
   "metadata": {},
   "source": [
    "### `파일 처리`"
   ]
  },
  {
   "cell_type": "code",
   "execution_count": 96,
   "metadata": {},
   "outputs": [],
   "source": [
    "#파일을 엽니다.\n",
    "file = open(\"basic.txt\", \"w\")\n",
    "\n",
    "file.write(\"hello world\")\n",
    "\n",
    "file.close()"
   ]
  },
  {
   "attachments": {},
   "cell_type": "markdown",
   "metadata": {},
   "source": [
    "`with 키워드` : with구문이 종료될 떄 자동으로 파일이 닫힌다.\n",
    "- with open(`문자열: 파일 경로`, `문자열: 모드`)as `파일 객체`:</br>`문장`"
   ]
  },
  {
   "cell_type": "code",
   "execution_count": 102,
   "metadata": {},
   "outputs": [],
   "source": [
    "with open(\"basic.txt\", \"w\") as f:\n",
    "    f.write(\"hello chaewon\")"
   ]
  },
  {
   "attachments": {},
   "cell_type": "markdown",
   "metadata": {},
   "source": [
    "`텍스트 읽기`</br>"
   ]
  },
  {
   "cell_type": "code",
   "execution_count": 108,
   "metadata": {},
   "outputs": [
    {
     "name": "stdout",
     "output_type": "stream",
     "text": [
      "hello chaewon\n"
     ]
    }
   ],
   "source": [
    "# 파일을 엽니다.\n",
    "with open(\"basic.txt\", \"r\") as f:\n",
    "    contents = f.read()\n",
    "\n",
    "print(contents)"
   ]
  },
  {
   "attachments": {},
   "cell_type": "markdown",
   "metadata": {},
   "source": [
    "`텍스트 한 줄씩 읽기`"
   ]
  },
  {
   "attachments": {},
   "cell_type": "markdown",
   "metadata": {},
   "source": [
    "CSV 파일은 한 줄에 하나의 데이터를 나타내며, 각각의 줄은 쉼표를 사용해 데이터를 구분한다. 이때 첫 번째 줄에 헤더를 넣어 각 데이터가 무엇을 나타내는지 설명해줄 수 있다."
   ]
  },
  {
   "cell_type": "code",
   "execution_count": 119,
   "metadata": {},
   "outputs": [],
   "source": [
    "hanguls = list(\"가나다라마바사아자차카타파하\")\n",
    "\n",
    "with open(\"info.txt\", \"w\") as file:\n",
    "    file.write(\"name,weight,height\\n\")\n",
    "    \n",
    "    for i in range(1000):\n",
    "        # choice : 리스트에서 아무원소나 하나 뽑아주는 함수\n",
    "        name = random.choice(hanguls) + random.choice(hanguls) + random.choice(hanguls)\n",
    "        weight = random.randint(40,100)\n",
    "        height = random.randint(140,200)\n",
    "        file.write(\"{}, {}, {}\\n\".format(name, weight, height))"
   ]
  },
  {
   "attachments": {},
   "cell_type": "markdown",
   "metadata": {},
   "source": [
    "- for `한 줄을 나타내는 문자열` in `파일 객체`:</br>\n",
    "          `처리`\n"
   ]
  },
  {
   "cell_type": "code",
   "execution_count": null,
   "metadata": {},
   "outputs": [],
   "source": [
    "with open(\"info.txt\", \"r\")as file:\n",
    "    format = file.readline() # 첫번째 줄 파일 읽기\n",
    "    human_info = []\n",
    "    for line in file:\n",
    "        human_info = [list(line.strip().split(',')) for line in file]\n",
    "    human_info = np.array(human_info) # 2차원 배열로 저장된 상태\n",
    "    \n",
    "    #print(human_info)\n",
    "    #print(format)\n",
    "\n",
    "    for i in human_info:\n",
    "        (name, weight, height) = i\n",
    "        bmi = int(weight) / ((int(height)/100)**2)\n",
    "        result = ''\n",
    "        if 25<= bmi: result = \"과체중\"\n",
    "        if 18.5<= bmi: result = \"정상 체중\"\n",
    "        else: result = \"저체중\"\n",
    "\n",
    "        print(result)\n",
    "\n",
    "#bmi 계산 해보기\n",
    "\n"
   ]
  },
  {
   "attachments": {},
   "cell_type": "markdown",
   "metadata": {},
   "source": [
    "pandas를 통해서 csv파일을 읽어올 수 있다."
   ]
  },
  {
   "cell_type": "code",
   "execution_count": 120,
   "metadata": {},
   "outputs": [
    {
     "name": "stdout",
     "output_type": "stream",
     "text": [
      "    name  weight  height\n",
      "0    가타다      80     188\n",
      "1    차타가      71     192\n",
      "2    바가마      90     198\n",
      "3    나마카      51     191\n",
      "4    차카다      52     183\n",
      "..   ...     ...     ...\n",
      "995  가라파      54     147\n",
      "996  사카카      83     161\n",
      "997  라마타      85     200\n",
      "998  파바사      73     149\n",
      "999  가자아      58     160\n",
      "\n",
      "[1000 rows x 3 columns]\n"
     ]
    }
   ],
   "source": [
    "import pandas as pd\n",
    "\n",
    "test_csv = pd.read_csv(\"info.txt\")\n",
    "\n",
    "print(test_csv)"
   ]
  },
  {
   "attachments": {},
   "cell_type": "markdown",
   "metadata": {},
   "source": [
    "## 기본자료형과 객체 자료형"
   ]
  },
  {
   "attachments": {},
   "cell_type": "markdown",
   "metadata": {},
   "source": [
    "파이썬의 `기본 자료형`에는 숫자, 문자열, 불이 있다. 이 세가지를 제외한 자료형들은 모두 `객체 자료형`이다.</br>\n",
    "`기본 자료형`은 가볍고 정형화된 자료형이다. 그래서 파이썬은 작은 상자에 기본 자려형을 저장하며 이를 쌓아서 모아둔다. 이렇게 기본 자료형들이 차곡 차곡 정리되어 있는 공간을 `스택`이라고 부른다.</br>\n",
    "`객체 자료형`은 무겁고 크기가 정형화 되어 있지 않기때문에 이를 거대한 창고에 넣어둔다. 이렇게 객체 자료형들이 저장되어 있는 거대한 창고를 `힙`이라고 부른다.</br>\n",
    "`리스트`와`딕셔너리` 같이 큰 자료형은 힙이라는 창고에 넣어두고 창고의 어떤 위치에 저장했는지를 `스택`에 기록한다.</br>\n",
    "창고의 어떤 위치에 저장했는지를 `주소`또는 `레퍼런스`라고 부른다.\n"
   ]
  },
  {
   "attachments": {},
   "cell_type": "markdown",
   "metadata": {},
   "source": [
    "### 함수의 값 복사와 레퍼런스 복사\n"
   ]
  },
  {
   "attachments": {},
   "cell_type": "markdown",
   "metadata": {},
   "source": [
    "#### 기본 자료형 복사\n",
    "파이썬은 함수를 호출할 때 함수 내부 코드를 실행하기 위해 함수 내부의 변수를 저장할 스택을 추가로 만든다.</br>\n",
    "함수에 매개변수로 변수 a를 입력했을때, 변수 a가 함수에 직접 입력되는게 아니다. 함수에서 변수 a와 같은 값을 함수쪽에서 받아 적는다는 느낌으로 생각하는게 좋다. 둘은 그냥 같은 값이 적혀 있는 것뿐이지 같은 대상이 아니다"
   ]
  },
  {
   "attachments": {},
   "cell_type": "markdown",
   "metadata": {},
   "source": [
    "#### 객체 자료형 복사\n",
    "리스트를 매개변수로 전달하고 `append()`함수를 호출해서 요소를 추가하면 어떻게 될까?"
   ]
  },
  {
   "cell_type": "code",
   "execution_count": 167,
   "metadata": {},
   "outputs": [
    {
     "name": "stdout",
     "output_type": "stream",
     "text": [
      "[1, 2, 3]\n",
      "[1, 2, 3, 4]\n"
     ]
    }
   ],
   "source": [
    "def object_change(d):\n",
    "    d.append(4)\n",
    "\n",
    "c = [1,2,3]\n",
    "\n",
    "# 변수 c와 변수 d는 같은 값을 갖고 있을 뿐 직접적인 관계가 없는 변수이다.\n",
    "# 다만 둘이 모두 같은 주소를 가리킨다.\n",
    "print(c)\n",
    "object_change(c)\n",
    "print(c)"
   ]
  },
  {
   "attachments": {},
   "cell_type": "markdown",
   "metadata": {},
   "source": [
    "매개변수로 전달했던 리스트 c가 변경된다. 변수 c에 들어있는 값은 힙에 존재하는 리스트 위치를 나타내는 `주소`이다. </br>\n",
    "이 값이 함수의 매개변수 d로 로 전달된 것입니다. 변수 c와 변수d는 같은 값을 갖고 있을 뿐 직접적인 관계가 없는 변수입니다."
   ]
  },
  {
   "attachments": {},
   "cell_type": "markdown",
   "metadata": {},
   "source": [
    "## 표준 모듈"
   ]
  },
  {
   "attachments": {},
   "cell_type": "markdown",
   "metadata": {},
   "source": [
    "### random  모듈"
   ]
  },
  {
   "cell_type": "code",
   "execution_count": 206,
   "metadata": {},
   "outputs": [
    {
     "name": "stdout",
     "output_type": "stream",
     "text": [
      "0.9533664279766182\n",
      "13.192081349264356\n",
      "0\n",
      "6\n",
      "None\n",
      "[1, 5]\n"
     ]
    }
   ],
   "source": [
    "#random\n",
    "print(random.random()) # 0.0 <= x <1.0 사이의 float를 리턴\n",
    "\n",
    "#uniform(min,max) : 지정한 범위사이 float를 리턴한다.\n",
    "print(random.uniform(2,15))\n",
    "\n",
    "# randrange(): 지정한 범위의 int를 리턴한다\n",
    "# randrange(max): 0~max사이의 int값을 리턴\n",
    "print(random.randrange(1))\n",
    "\n",
    "# choice(list): 리스트 내부에 있는 요소를 랜덤하게 선택한다.\n",
    "print(random.choice([1,2,3,4,5,6,7,8,9]))\n",
    "\n",
    "#shuffle(list) : 리스트의 요소들을 랜덤하게 섞습니다.\n",
    "print(random.shuffle([1,2,3,4,5,6]))\n",
    "\n",
    "#sample(list,k=<숫자>) : 리스트의 요소 중에 k개를 뽑스니다.\n",
    "print(random.sample([1,2,3,4,5], k =2))"
   ]
  },
  {
   "attachments": {},
   "cell_type": "markdown",
   "metadata": {},
   "source": [
    "### OS 모듈"
   ]
  },
  {
   "attachments": {},
   "cell_type": "markdown",
   "metadata": {},
   "source": [
    "`os 모듈`은 운영체제와 관련된 기능을 가진 모듈입니다. 새로운 폴더를 만들거나 폴더 내부의 파일 목록을 보는 일도 모두 os모듈을 활용해서 처리한다."
   ]
  }
 ],
 "metadata": {
  "kernelspec": {
   "display_name": "base",
   "language": "python",
   "name": "python3"
  },
  "language_info": {
   "codemirror_mode": {
    "name": "ipython",
    "version": 3
   },
   "file_extension": ".py",
   "mimetype": "text/x-python",
   "name": "python",
   "nbconvert_exporter": "python",
   "pygments_lexer": "ipython3",
   "version": "3.10.10"
  },
  "orig_nbformat": 4
 },
 "nbformat": 4,
 "nbformat_minor": 2
}
